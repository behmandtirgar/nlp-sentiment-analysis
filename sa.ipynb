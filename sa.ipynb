{
 "cells": [
  {
   "cell_type": "markdown",
   "metadata": {},
   "source": [
    "# Sentiment Analysis"
   ]
  },
  {
   "cell_type": "markdown",
   "metadata": {},
   "source": [
    "You can directly go to the main part of my challenge:\n",
    "[main](#main)"
   ]
  },
  {
   "cell_type": "markdown",
   "metadata": {},
   "source": [
    "Sentiment analysis is basically the process of determining the attitude or the emotion of the writer, i.e., whether it is positive or negative or neutral."
   ]
  },
  {
   "cell_type": "markdown",
   "metadata": {},
   "source": [
    "<center> <img src=\"src/0.gif\" alt=\"Alt\" title=\"Sentiment Analysis\" /> </center>\n",
    "\n",
    "[source](https://dribbble.com/shots/4226968-Sentiment-Analysis/attachments/4226968-Sentiment-Analysis?mode=media)"
   ]
  },
  {
   "cell_type": "markdown",
   "metadata": {},
   "source": [
    "#### Common pipeline of Machine learning is following:\n",
    "* ##### Problem statement\n",
    "* ##### Acquisition\n",
    "* ##### Preprocessing\n",
    "* ##### Feature extraction\n",
    "* ##### Modelling\n",
    "* ##### Evaluation\n",
    "* ##### Application"
   ]
  },
  {
   "cell_type": "markdown",
   "metadata": {},
   "source": [
    "I want to solve this challenge using </br>\n",
    "\n",
    "&#9658;\n",
    "Machine-learning problems are very similar to our real life. We learn many things by guessing and making mistakes. </br>\n",
    "\n",
    "&#9658;\n",
    "Remind the first time you want to drive the car. At that time you couldn't have an understanding of the relation between gas and acceleration. You gave probably got much error and then using supervisor and training tried to reduce error cost. [_Supervised Learning_] </br>\n",
    "\n",
    "&#9658;\n",
    "Sometimes we prefer to learn something by test and trial, like the American education system. Students learn by experiences. [_Unsupervised Learning_] </br>\n",
    "\n",
    "&#9658;\n",
    "We use learning methods base on case and application. But the very important point is that you should be trained under a supervisor. Because the _cost_ is high! </br>\n",
    "\n",
    "&#9658;\n",
    "One part of Supervised learning is \"_testing_\". It is important to note that the teacher should always test the students as the family takes tests to protect the children evaluate if they are in the right direction. [_Evaluation_] </br>\n",
    "\n",
    "&#9658;\n",
    "Our Learning is base on a defined model. In our driving example, we have a driving licensing law (model) and we treat base on this law. And we apply it to our brain. </br>\n",
    "\n",
    "In the machine learning world, for unsupervised learning algorithms like _KNN_, _Association Rules_. For supervised learning _Naive based_, _Decision Tree_, _SVM_. We use supervised learning if we have the label in advance. (like our challenge) </br>\n",
    "\n",
    "In supervised learning, it's essential to select a suitable feature, in order to give a good result. </br>"
   ]
  },
  {
   "cell_type": "markdown",
   "metadata": {},
   "source": [
    "\n",
    "* * *\n"
   ]
  },
  {
   "cell_type": "markdown",
   "metadata": {},
   "source": [
    "##### In this Challeng , We want to:\n",
    "> **Task:** Classify the sentiment in Twitter messages according to a 5-point ordinal scale.\n",
    "> <br>**Input:** 10,000 Twitter messages together with topic and a label from a five point scale\n",
    "(-2 ~ 2)\n",
    "> <br>**Objective:** Train and evaluate a classifier\n"
   ]
  },
  {
   "cell_type": "markdown",
   "metadata": {},
   "source": [
    "We have pretrained text file with 10,000 twieet with lable and topics. similar to \"Subtask C\" on [SemEval-2017]"
   ]
  },
  {
   "cell_type": "markdown",
   "metadata": {},
   "source": [
    "***"
   ]
  },
  {
   "cell_type": "markdown",
   "metadata": {},
   "source": [
    "But before jumping to objective. Lets a lit discover the data:"
   ]
  },
  {
   "cell_type": "code",
   "execution_count": 3,
   "metadata": {},
   "outputs": [],
   "source": [
    "#Import the movie reviews corpus\n",
    "import numpy as np\n",
    "import pandas as pd"
   ]
  },
  {
   "cell_type": "code",
   "execution_count": 21,
   "metadata": {},
   "outputs": [],
   "source": [
    "#Import the movie reviews corpus  #Read the base file into a raw text variable\n",
    "col_names = ['Number', 'Singer', 'Polarity','Comment']\n",
    "ds = pd.read_csv(\"SemEval2017.txt\", names=col_names, delimiter=\"\\t\")"
   ]
  },
  {
   "cell_type": "code",
   "execution_count": null,
   "metadata": {},
   "outputs": [],
   "source": [
    "#remove unnecessery column\n",
    "ds = ds.drop(['Number'], axis=1)\n",
    "\n",
    "ds.head(5)"
   ]
  },
  {
   "cell_type": "markdown",
   "metadata": {},
   "source": [
    "One of thousend soluton for analysing comment is TextBlob Library"
   ]
  },
  {
   "cell_type": "markdown",
   "metadata": {},
   "source": [
    ">__TextBlob__ is a Python library for processing textual data. It provides a simple API for diving into common natural language processing (NLP) tasks such as part-of-speech tagging, noun phrase extraction, sentiment analysis, classification, translation, and more.\n",
    "[source](https://textblob.readthedocs.io/en/dev/#:~:text=TextBlob%20is%20a%20Python%20(2,classification%2C%20translation%2C%20and%20more.)\n"
   ]
  },
  {
   "cell_type": "markdown",
   "metadata": {},
   "source": [
    "<center> <img src=\"src/1.gif\" alt=\"Alt\" title=\"Sentiment Analysis\" style=\"width: 250px;\"/> </center>\n",
    "\n",
    "[source](https://medium.com/analytics-vidhya/sentiment-analysis-on-ellens-degeneres-tweets-using-textblob-ff525ea7c30f)"
   ]
  },
  {
   "cell_type": "markdown",
   "metadata": {},
   "source": [
    "each word has different meaning weight:"
   ]
  },
  {
   "cell_type": "markdown",
   "metadata": {},
   "source": [
    "<center> <img src=\"src/4.png\" alt=\"Alt\" title=\"From: yougov.com\" style= \"width: 400px;\"/> </center>"
   ]
  },
  {
   "cell_type": "markdown",
   "metadata": {},
   "source": [
    "for example:"
   ]
  },
  {
   "cell_type": "markdown",
   "metadata": {},
   "source": [
    "|Sample  |Polarity |Subjectivity |\n",
    "|:-----|:----:|----:|\n",
    "|great     |0.8     |0.75    |\n",
    "|not great     |-0.4     |0.75    |\n",
    "|very great     |1.0     |0.975    |\n",
    "|not very great     |-0.3     |0.57    |\n",
    "|not great     |-0.4     |0.75    |\n",
    "|not a very great     |<font color=red>-0.3</font>     |<font color=green>0.57</font>    |\n",
    "|not a very great calculation     |<font color=red>-0.3</font>     |<font color=green>0.57</font>    |"
   ]
  },
  {
   "cell_type": "markdown",
   "metadata": {},
   "source": [
    "Textblob provides in-build classifiers module to create a custom classifier. Like: </br>\n",
    "```python\n",
    "from textblob import classifiers\n",
    "classifier = classifiers.NaiveBayesClassifier(training)\n",
    "dt_classifier = classifiers.DecisionTreeClassifier(training)\n",
    "````"
   ]
  },
  {
   "cell_type": "code",
   "execution_count": null,
   "metadata": {},
   "outputs": [],
   "source": [
    "#install textblob\n",
    "from textblob import TextBlob\n",
    "\n",
    "print('{:10} : {:10} : {:100}'.format(\"Polarity\", \"Subjectivity\", \"Review\") )\n",
    "\n",
    "for review in ds.iloc[:,2]:\n",
    "    #Find sentiment of a review\n",
    "    sentiment = TextBlob(review)\n",
    "    #Print individual sentiments\n",
    "    print('{: 01.2f}    :   {:01.2f}   :   {:100}'.format(sentiment.polarity, sentiment.subjectivity, review))"
   ]
  },
  {
   "cell_type": "code",
   "execution_count": null,
   "metadata": {},
   "outputs": [],
   "source": [
    "## Visualization\n",
    "# from pivottablejs import pivot_ui\n",
    "# pivot_ui(ds[:][0:1000])"
   ]
  },
  {
   "cell_type": "markdown",
   "metadata": {},
   "source": [
    "##### the output should be so:\n",
    "<img src=\"src/pre.png\">"
   ]
  },
  {
   "cell_type": "code",
   "execution_count": 23,
   "metadata": {},
   "outputs": [
    {
     "name": "stdout",
     "output_type": "stream",
     "text": [
      "Final summarized counts : [6394, 1981, 1131, 1271, 1233]\n"
     ]
    }
   ],
   "source": [
    "#Categorize Polarity into Positive, Neutral or Negative\n",
    "labels = [\"Very Negative\", \"Negative\", \"Neutral\", \"Positive\", \"Very Positive\"]\n",
    "\n",
    "#Initialize count array\n",
    "values = [0, 0, 0, 0, 0]\n",
    "\n",
    "#Categorize each review\n",
    "for review in ds.iloc[:,2]:\n",
    "    sentiment = TextBlob (review)\n",
    "    \n",
    "    #Custom formula to convert polarity    # 0=(Negative) 1=(Neutral) 2=(Positive)\n",
    "    polarity = round(( sentiment.polarity + 1 ) * 5 ) % 5\n",
    "    \n",
    "    #add the summary array\n",
    "    values[polarity] = values[polarity] + 1\n",
    "    \n",
    "print(\"Final summarized counts :\", values)"
   ]
  },
  {
   "cell_type": "code",
   "execution_count": 26,
   "metadata": {},
   "outputs": [
    {
     "name": "stdout",
     "output_type": "stream",
     "text": [
      "\n",
      " Pie Representation \n",
      " -------------------\n"
     ]
    },
    {
     "data": {
      "image/png": "[encoded data removed]",
      "text/plain": [
       "<Figure size 432x288 with 1 Axes>"
      ]
     },
     "metadata": {},
     "output_type": "display_data"
    }
   ],
   "source": [
    "import matplotlib.pyplot as plt\n",
    "\n",
    "#Set colors by label\n",
    "color = [\"Green\", \"Blue\", \"Red\", \"white\", \"yellow\"]\n",
    "\n",
    "print(\"\\n Pie Representation \\n -------------------\")\n",
    "\n",
    "# Plot a pie chart\n",
    "plt.pie (values, labels = labels, colors = color, \\\n",
    "        autopct = '%1.1f%%', shadow = True, startangle = 140)\n",
    "plt.axis('equal')\n",
    "plt.show()"
   ]
  },
  {
   "cell_type": "markdown",
   "metadata": {},
   "source": [
    "But, this is not we want!\n",
    "<br> Now we want to claaisfy it:"
   ]
  },
  {
   "cell_type": "markdown",
   "metadata": {},
   "source": [
    "***"
   ]
  },
  {
   "cell_type": "markdown",
   "metadata": {},
   "source": [
    "Another Solution:"
   ]
  },
  {
   "cell_type": "markdown",
   "metadata": {},
   "source": [
    "This Graphic shows whole workflow and explain how does Sentiment Analysis work:\n",
    "<center> <img src=\"src/3.png\" alt=\"Alt\" title=\"from: MonkeyLearn\" style= \"width: 500px;\"/> </center>\n",
    "<a id='main'></a>"
   ]
  },
  {
   "cell_type": "code",
   "execution_count": 1,
   "metadata": {},
   "outputs": [],
   "source": [
    "# import library\n",
    "## Standard libs\n",
    "import pandas as pd\n",
    "import os\n",
    "import numpy as np\n",
    "import random\n",
    "import json\n",
    "## DataPrep\n",
    "import re\n",
    "from sklearn.feature_extraction.text import ENGLISH_STOP_WORDS\n",
    "from sklearn.preprocessing import MultiLabelBinarizer\n",
    "from sklearn.metrics import plot_confusion_matrix\n",
    "## Modeling\n",
    "from sklearn.linear_model import LogisticRegression\n",
    "from sklearn.naive_bayes import MultinomialNB\n",
    "from sklearn.linear_model import SGDClassifier"
   ]
  },
  {
   "cell_type": "markdown",
   "metadata": {},
   "source": [
    "One of the problems with Tweeter is  noise (like Hashtag, User, Punctuation, URL and ...) . First, we have to remove them."
   ]
  },
  {
   "cell_type": "markdown",
   "metadata": {},
   "source": [
    "<center> <img src=\"src/2.png\"> </center>"
   ]
  },
  {
   "cell_type": "code",
   "execution_count": null,
   "metadata": {},
   "outputs": [],
   "source": [
    "# Start pre-Process dataset\n",
    "def CleanText(text):\n",
    "    text = re.sub(r\"[^A-Za-z0-9(),!?\\'`]\", \" \", text)\n",
    "    text = re.sub(r\"\\'s\", \" \\'s\", text)\n",
    "    text = re.sub(r\"\\'ve\", \" \\'ve\", text)\n",
    "    text = re.sub(r\"n\\'t\", \" n\\'t\", text)\n",
    "    text = re.sub(r\"\\'re\", \" \\'re\", text)\n",
    "    text = re.sub(r\"\\'d\", \" \\'d\", text)\n",
    "    text = re.sub(r\"\\'ll\", \" \\'ll\", text)\n",
    "    text = re.sub(r\",\", \" , \", text)\n",
    "    text = re.sub(r\"!\", \" ! \", text)\n",
    "    text = re.sub(r\"\\(\", \" \\( \", text)\n",
    "    text = re.sub(r\"\\)\", \" \\) \", text)\n",
    "    text = re.sub(r\"\\?\", \" \\? \", text)\n",
    "    text = re.sub(r\"\\s{2,}\", \" \", text)\n",
    "    return text.strip().lower()"
   ]
  },
  {
   "cell_type": "code",
   "execution_count": null,
   "metadata": {},
   "outputs": [],
   "source": [
    "# Reading the Data & Keeping only the neccessary columns\n",
    "with open('SemEval2017.txt', encoding=\"utf8\") as f:\n",
    "    data = list(map(lambda x: reversed(x.strip().split('\\t')[2:]), f.readlines()))\n",
    "\n",
    "data = pd.DataFrame(data, columns = ['text', 'label'])\n",
    "data['label'] = data['label'].apply(lambda x: int(x))\n",
    "data['text'] = data['text'].apply(lambda x: CleanText(x))\n",
    "\n",
    "data = data.sample(frac=1).reset_index()\n",
    "data.index = list(range(data.shape[0]))"
   ]
  },
  {
   "cell_type": "code",
   "execution_count": null,
   "metadata": {},
   "outputs": [],
   "source": [
    "# Tokenize Text\n",
    "all_words = []\n",
    "for ind, row in data.iterrows():\n",
    "    tokenized = row['text'].split(' ')\n",
    "    for word in tokenized:\n",
    "        if word not in all_words:\n",
    "            all_words.append(word) \n",
    "        else:\n",
    "            pass\n",
    "\n",
    "# convert word 2 vector and save to dictionary\n",
    "word_dict = {}\n",
    "for i, word in enumerate(all_words):\n",
    "    word_dict[word] = i\n",
    "with open('word_num.json', 'w', encoding=\"utf-8\") as json_file:   #save to json file\n",
    "    json.dump(word_dict, json_file, ensure_ascii=False, indent=4)"
   ]
  },
  {
   "cell_type": "code",
   "execution_count": null,
   "metadata": {},
   "outputs": [],
   "source": [
    "# read words\n",
    "all_words = json.load(open('word_num.json', 'r', encoding='utf-8'))\n",
    "\n",
    "# Splitting the data into train and test\n",
    "val_data = data.loc[list(range(int(data.shape[0] // 5))), ['text', 'label']].reset_index()\n",
    "train_data = data.loc[list(range(int(data.shape[0] // 5), data.shape[0])), ['text', 'label']].reset_index()"
   ]
  },
  {
   "cell_type": "code",
   "execution_count": null,
   "metadata": {},
   "outputs": [],
   "source": [
    "X_train = []\n",
    "X_val = []\n",
    "\n",
    "y_train = []\n",
    "y_val = []\n",
    "\n",
    "# Vectorize, to be understandable for computer\n",
    "for ind, row in train_data.iterrows():\n",
    "    helper = [0] * len(all_words)\n",
    "    tok = row['text'].split(' ')\n",
    "    for tk in tok:\n",
    "        helper[all_words[tk]] = 1\n",
    "\n",
    "    X_train.append(helper)\n",
    "    y_train.append(row['label'])\n",
    "\n",
    "for ind, row in val_data.iterrows():\n",
    "    helper = [0] * len(all_words)\n",
    "    tok = row['text'].split(' ')\n",
    "    for tk in tok:\n",
    "        helper[all_words[tk]] = 1\n",
    "\n",
    "    X_val.append(helper)\n",
    "    y_val.append(row['label'])\n",
    "\n",
    "X_train = np.array(X_train)\n",
    "y_train = np.array(y_train)\n",
    "\n",
    "X_val = np.array(X_val)\n",
    "y_val = np.array(y_val)"
   ]
  },
  {
   "cell_type": "code",
   "execution_count": null,
   "metadata": {},
   "outputs": [],
   "source": [
    "IMPS = []\n",
    "\n",
    "train = pd.DataFrame(X_train, columns=[str(i) for i in range(np.shape(X_train)[1])])\n",
    "train['label'] = y_train\n",
    "\n",
    "transformed_data = pd.DataFrame(MultiLabelBinarizer().fit_transform(np.reshape(y_train,(-1,1))),\\\n",
    "                                columns = ['0','1','2','3','4'])"
   ]
  },
  {
   "cell_type": "code",
   "execution_count": null,
   "metadata": {},
   "outputs": [],
   "source": [
    "# Extracting word features\n",
    "for i in range(5):   \n",
    "    importants = train.drop('label', axis=1).apply(lambda x: x.corr(transformed_data.iloc[:,i]))\n",
    "    important_indices = list(np.where(abs(importants)>0.03)[0])\n",
    "    IMPS += important_indices\n",
    "important_indices = list(np.unique(IMPS))\n",
    "X_train = X_train[:, important_indices]\n",
    "X_val = X_val[:, important_indices]"
   ]
  },
  {
   "cell_type": "code",
   "execution_count": null,
   "metadata": {},
   "outputs": [],
   "source": [
    "# Fitting a Logistic Regression classifier to the training data, evaluate & confusion Matrix\n",
    "lrclf = LogisticRegression(C=.5, penalty='l2', solver='liblinear', max_iter=10000, class_weight='balanced')\n",
    "lrclf.fit(X_train, y_train)\n",
    "\n",
    "print(f'validatin acc: {round(lrclf.score(X_val, y_val)*100, 3)}%')\n",
    "plot_confusion_matrix(lrclf, X_val, y_val)"
   ]
  },
  {
   "cell_type": "code",
   "execution_count": null,
   "metadata": {},
   "outputs": [],
   "source": [
    "# Training the Naive Bayes classifier, evaluate & confusion Matrix\n",
    "nbclf = MultinomialNB()\n",
    "nbclf.fit(X_train, y_train)\n",
    "\n",
    "print(f'validatin acc: {round(nbclf.score(X_val, y_val)*100, 3)}%')\n",
    "plot_confusion_matrix(nbclf, X_val, y_val)"
   ]
  },
  {
   "cell_type": "code",
   "execution_count": null,
   "metadata": {},
   "outputs": [],
   "source": [
    "# Train Stochastic Gradient Descent classifier, evaluate & confusion Matrix\n",
    "sgdclf = SGDClassifier(max_iter=5000, tol=1e-3, class_weight='balanced')\n",
    "sgdclf.fit(X_train, y_train)\n",
    "\n",
    "print(f'validatin acc: {round(sgdclf.score(X_val, y_val)*100, 3)}%')\n",
    "plot_confusion_matrix(sgdclf, X_val, y_val)"
   ]
  },
  {
   "cell_type": "markdown",
   "metadata": {},
   "source": [
    "Comparing accuracy of 3 algorithms:"
   ]
  },
  {
   "cell_type": "markdown",
   "metadata": {},
   "source": [
    "|  |LogisticRegression|Naïve Bayes|Stochastic GD|\n",
    "|:-----|:----:|----:|----:|\n",
    "|Accuracy     |58.4%     |58.9%    |55.9%    |\n"
   ]
  },
  {
   "cell_type": "markdown",
   "metadata": {},
   "source": [
    "😑 It's not good. That means we have to make a better feature ..."
   ]
  },
  {
   "cell_type": "code",
   "execution_count": null,
   "metadata": {},
   "outputs": [],
   "source": []
  }
 ],
 "metadata": {
  "kernelspec": {
   "display_name": "Python 3",
   "language": "python",
   "name": "python3"
  },
  "language_info": {
   "codemirror_mode": {
    "name": "ipython",
    "version": 3
   },
   "file_extension": ".py",
   "mimetype": "text/x-python",
   "name": "python",
   "nbconvert_exporter": "python",
   "pygments_lexer": "ipython3",
   "version": "3.8.0"
  }
 },
 "nbformat": 4,
 "nbformat_minor": 4
}
